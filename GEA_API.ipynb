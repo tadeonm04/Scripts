{
  "cells": [
    {
      "cell_type": "markdown",
      "metadata": {
        "id": "NoJYukIDBmZS"
      },
      "source": [
        "## Importación de librerías y montado del drive (es necesario dar permiso en las ventanas emergentes)"
      ]
    },
    {
      "cell_type": "markdown",
      "metadata": {},
      "source": [
        "### Se creó un pickle que contiene el Oauth 2.0 para conectar con google drive. \n",
        "***Asegúrate de que el auth.json en tu caso es correcto***\n"
      ]
    },
    {
      "cell_type": "code",
      "execution_count": 24,
      "metadata": {
        "id": "khdouhQrBqrE"
      },
      "outputs": [],
      "source": [
        "import pandas as pd\n",
        "from tqdm import tqdm\n",
        "import requests\n",
        "import ast\n",
        "from sklearn import metrics\n",
        "import matplotlib.pyplot as plt\n",
        "import pickle\n",
        "import warnings\n",
        "warnings.filterwarnings('ignore')"
      ]
    },
    {
      "cell_type": "markdown",
      "metadata": {
        "id": "aQHJ2jPwB1n7"
      },
      "source": [
        "## Datos a utilizar (deben ser reemplazados por los que corresponda)"
      ]
    },
    {
      "cell_type": "code",
      "execution_count": 26,
      "metadata": {},
      "outputs": [],
      "source": [
        "# Funciones de manejo de token (pickle)\n",
        "def save_token(token, token_path='token.pickle'):\n",
        "    \"\"\"Guarda el token o cualquier objeto en un archivo pickle.\"\"\"\n",
        "    with open(token_path, 'wb') as token_file:\n",
        "        pickle.dump(token, token_file)\n",
        "    print(f\"Token guardado en {token_path}\")\n",
        "\n",
        "def load_token(token_path='token.pickle'):\n",
        "    \"\"\"Carga el token desde un archivo pickle.\"\"\"\n",
        "    if os.path.exists(token_path):\n",
        "        with open(token_path, 'rb') as token_file:\n",
        "            token = pickle.load(token_file)\n",
        "        print(f\"Token cargado desde {token_path}\")\n",
        "        return token\n",
        "    else:\n",
        "        print(\"No se encontró un archivo pickle. Retornando None.\")\n",
        "        return None"
      ]
    },
    {
      "cell_type": "code",
      "execution_count": null,
      "metadata": {
        "id": "QOLfMPIuB1Kq"
      },
      "outputs": [],
      "source": [
        "# Nombre del dataset exacto guardado en el directorio \n",
        "NOMBRE_PROYECTO = \"\"\n",
        "\n",
        "# Se recomienda no cambiar estos directorios, donde se deja el csv inferido\n",
        "DATASETS = \"/content/drive/Externo/XBOX/\"\n",
        "OUTPUT = \"/content/drive/Outputs\"\n",
        "\n",
        "# Entidades a dirigir la reputación\n",
        "TARGET_ENTITIES = ['tigre de zucaritas','zucaritas','tigre.?toño','toño']"
      ]
    },
    {
      "cell_type": "markdown",
      "metadata": {
        "id": "f3iNclVTCDKG"
      },
      "source": [
        "## Invocación de la api del Modelo GEA (IA de LLYC)"
      ]
    },
    {
      "cell_type": "code",
      "execution_count": null,
      "metadata": {
        "id": "ynsutjvABjqu"
      },
      "outputs": [],
      "source": [
        "print('Procesando...')\n",
        "\n",
        "df = pd.read_csv(DATASETS + NOMBRE_PROYECTO, skiprows=6)\n",
        "df['Target Entities'] = df.apply(lambda row: TARGET_ENTITIES.copy(), axis=1)\n",
        "\n",
        "# El análisis de 10.000 filas puede llevar en torno a 1 minuto.\n",
        "lang = 'es' # Admite es o pt\n",
        "data = {\"language\": lang, \"urls\": df['Url'].tolist(), 'tweets': df['Full Text'].tolist(), 'target_entities': df['Target Entities'].tolist()}\n",
        "\n",
        "r = requests.post(\"https://gea.llyc.app/gea2/\", json=data, timeout=500)\n",
        "if r.status_code == 200:\n",
        "    print('Inferencia terminada!')\n",
        "else:\n",
        "    raise Exception(r.text)"
      ]
    },
    {
      "cell_type": "markdown",
      "metadata": {
        "id": "6Ah79lYxCpN_"
      },
      "source": [
        "## Recupero la inferencia"
      ]
    },
    {
      "cell_type": "code",
      "execution_count": null,
      "metadata": {
        "id": "6PGYSVRjCinL"
      },
      "outputs": [],
      "source": [
        "df['tweet_prepro'] = r.json()['tweets']\n",
        "df['ia_llyc_sentiment'] = r.json()['preds']\n",
        "\n",
        "df.to_csv(OUTPUT + NOMBRE_PROYECTO[:-4], index= False)\n",
        "print (\"Dataset {} inferido en directorio output!\".format(NOMBRE_PROYECTO[:-4]))"
      ]
    },
    {
      "cell_type": "markdown",
      "metadata": {
        "id": "iP1wrCpdjdGi"
      },
      "source": [
        "# TESTADOR DE FRASES SUELTAS"
      ]
    },
    {
      "cell_type": "code",
      "execution_count": null,
      "metadata": {
        "id": "uj_CFR-lc6EH"
      },
      "outputs": [],
      "source": [
        "# Prueba de que la llamada a la API con el análisis de sentimiento de una frase\n",
        "def inf_tweet (message, target_entities):\n",
        "        print(\"Mensaje:  \", message)\n",
        "        print(\"Entidades:\", target_entities, end='\\n\\n')\n",
        "\n",
        "        data = {\"language\": 'es', \"urls\": ['-sin url-'], 'tweets': [message], 'target_entities': [target_entities]}\n",
        "\n",
        "        r = requests.post(\"https://gea.llyc.app/gea2/\", json=data, timeout=60)\n",
        "        if r.status_code == 200:\n",
        "            print(r.json())\n",
        "        else:\n",
        "            raise Exception(r.text)"
      ]
    },
    {
      "cell_type": "code",
      "execution_count": null,
      "metadata": {
        "id": "YgD-DPbkfea7"
      },
      "outputs": [],
      "source": [
        "inf_tweet('Pepsi como refresco está rico y es mucho mejor que Trina', ['pepsi cola','pepsicola','pepsi'])"
      ]
    },
    {
      "cell_type": "code",
      "execution_count": null,
      "metadata": {
        "id": "yKm7-ThUgIZN"
      },
      "outputs": [],
      "source": [
        "inf_tweet('Pepsi como refresco está rico y es mucho mejor que Trina', ['trina','trinaranjus'])"
      ]
    }
  ],
  "metadata": {
    "colab": {
      "provenance": []
    },
    "kernelspec": {
      "display_name": "Python 3",
      "name": "python3"
    },
    "language_info": {
      "codemirror_mode": {
        "name": "ipython",
        "version": 3
      },
      "file_extension": ".py",
      "mimetype": "text/x-python",
      "name": "python",
      "nbconvert_exporter": "python",
      "pygments_lexer": "ipython3",
      "version": "3.9.6"
    }
  },
  "nbformat": 4,
  "nbformat_minor": 0
}
