{
 "cells": [
  {
   "cell_type": "markdown",
   "metadata": {},
   "source": [
    "# Amazon API Connection\n",
    "# NOTE: You must be approved as developer to have access to API\n",
    "## https://api.music.amazon.dev\n",
    "### https://developer.amazon.com/settings/console/securityprofile/view.html?identityAppFamilyId=amzn1.application.d8b108f90e134bdfb37012dd7f016362&editMode=false"
   ]
  },
  {
   "cell_type": "code",
   "execution_count": 27,
   "metadata": {},
   "outputs": [],
   "source": [
    "import pandas as pd \n",
    "import time \n",
    "import requests\n",
    "import json"
   ]
  },
  {
   "cell_type": "markdown",
   "metadata": {},
   "source": [
    "### Establish connection using POST "
   ]
  },
  {
   "cell_type": "code",
   "execution_count": 77,
   "metadata": {},
   "outputs": [
    {
     "name": "stdout",
     "output_type": "stream",
     "text": [
      "<Response [200]>\n"
     ]
    }
   ],
   "source": [
    "url = \"https://api.amazon.com/auth/o2/token\"\n",
    "\n",
    "\n",
    "# Encabezados correctos\n",
    "headers_post = {\n",
    "    \"Content-Type\": \"application/x-www-form-urlencoded\"\n",
    "          }\n",
    "\n",
    "# Datos que deben ir en el cuerpo de la solicitud\n",
    "data = {\n",
    "    \"grant_type\": \"client_credentials\",\n",
    "    \"client_id\": \"amzn1.application-oa2-client.f155a9e174524841a81de2b154c885ef\",\n",
    "    \"client_secret\": \"amzn1.oa2-cs.v1.377b83974ee29ae149aaa5946801debe2b9b7daeebbeb722a7d201c8c9312ff4\",\n",
    "    \"scope\": \"appstore::apps:readwrite\"\n",
    "       }\n",
    "\n",
    "# Enviar solicitud POST\n",
    "response_post = requests.post(url, headers=headers_post, data=data)\n",
    "\n",
    "print(response_post)"
   ]
  },
  {
   "cell_type": "markdown",
   "metadata": {},
   "source": [
    "### Obtain API Token using GET"
   ]
  },
  {
   "cell_type": "code",
   "execution_count": 76,
   "metadata": {},
   "outputs": [
    {
     "name": "stdout",
     "output_type": "stream",
     "text": [
      "{'access_token': 'Atc|MQEBILhSuecdgtnpk8_SoaYpSx8hZJb2JJP2vy0tmcCVJvaURdZfaiDtbhLsUS9B5FITMMWDvFKksdPOUZDyShR6TF92yCCY2Gd8DEgQvQvv3AxNNfkdqpPs9_kMMbzMCtM7clf6iM-NbCzeDsCBlB2CRNdwIY1OH223k-qFpsft9QA5YekhhJeR2ruIJQ7UNh7rlHc9bzorSDZSb4O5heFtpwKMr33fYmqb4-lRjXJelrYU3tOWkTvQBFUh1K1WNYRNs60', 'scope': 'appstore::apps:readwrite', 'token_type': 'bearer', 'expires_in': 3600}\n",
      "Atc|MQEBILhSuecdgtnpk8_SoaYpSx8hZJb2JJP2vy0tmcCVJvaURdZfaiDtbhLsUS9B5FITMMWDvFKksdPOUZDyShR6TF92yCCY2Gd8DEgQvQvv3AxNNfkdqpPs9_kMMbzMCtM7clf6iM-NbCzeDsCBlB2CRNdwIY1OH223k-qFpsft9QA5YekhhJeR2ruIJQ7UNh7rlHc9bzorSDZSb4O5heFtpwKMr33fYmqb4-lRjXJelrYU3tOWkTvQBFUh1K1WNYRNs60\n"
     ]
    }
   ],
   "source": [
    "response_data = response_post.json() #Convierte la respuesta a json\n",
    "api_token = response_data.get(\"access_token\")\n",
    "print(response_data)\n",
    "\n",
    "#In case you need to parse it quitting \"Atc|\"\n",
    "#if api_token.startswith(\"Atc|\"):\n",
    "#    api_token = api_token[4:]\n",
    "print(api_token)"
   ]
  },
  {
   "cell_type": "markdown",
   "metadata": {},
   "source": [
    "### GET request having API Token"
   ]
  },
  {
   "cell_type": "markdown",
   "metadata": {},
   "source": [
    "##### Establish connection with url target\n"
   ]
  },
  {
   "cell_type": "code",
   "execution_count": 80,
   "metadata": {},
   "outputs": [
    {
     "name": "stdout",
     "output_type": "stream",
     "text": [
      "<Response [401]>\n"
     ]
    }
   ],
   "source": [
    "url = \"https://api.music.amazon.dev/artists/B01N9MGK8F\"\n",
    "\n",
    "api_token = \"Atc|MQEBILhSuecdgtnpk8_SoaYpSx8hZJb2JJP2vy0tmcCVJvaURdZfaiDtbhLsUS9B5FITMMWDvFKksdPOUZDyShR6TF92yCCY2Gd8DEgQvQvv3AxNNfkdqpPs9_kMMbzMCtM7clf6iM-NbCzeDsCBlB2CRNdwIY1OH223k-qFpsft9QA5YekhhJeR2ruIJQ7UNh7rlHc9bzorSDZSb4O5heFtpwKMr33fYmqb4-lRjXJelrYU3tOWkTvQBFUh1K1WNYRNs60\"\n",
    "\n",
    "headers = {\n",
    "    \"Authorization\": f\"Bearer {api_token}\"\n",
    "}\n",
    "\n",
    "response = requests.get(url,headers = headers)\n",
    "print(response) "
   ]
  },
  {
   "cell_type": "code",
   "execution_count": null,
   "metadata": {},
   "outputs": [],
   "source": []
  },
  {
   "cell_type": "code",
   "execution_count": null,
   "metadata": {},
   "outputs": [],
   "source": []
  }
 ],
 "metadata": {
  "kernelspec": {
   "display_name": "Python 3",
   "language": "python",
   "name": "python3"
  },
  "language_info": {
   "codemirror_mode": {
    "name": "ipython",
    "version": 3
   },
   "file_extension": ".py",
   "mimetype": "text/x-python",
   "name": "python",
   "nbconvert_exporter": "python",
   "pygments_lexer": "ipython3",
   "version": "3.9.6"
  }
 },
 "nbformat": 4,
 "nbformat_minor": 2
}
